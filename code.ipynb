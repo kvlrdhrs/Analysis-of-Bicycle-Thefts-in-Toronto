{
 "cells": [
  {
   "cell_type": "markdown",
   "metadata": {},
   "source": [
    "# Bicycle Thefts in Toronto"
   ]
  },
  {
   "cell_type": "code",
   "execution_count": null,
   "metadata": {},
   "outputs": [],
   "source": [
    "# Suggested Tasks:\n",
    "\n",
    "# Data Exploration: Familiarize yourself with the dataset. Identify key variables such as date, location, bike type, etc.\n",
    "\n",
    "# Temporal Analysis: Analyze temporal trends in bicycle thefts. Are there seasons or times of day when thefts are more frequent?\n",
    "\n",
    "# Geographical Analysis: Map the locations of bicycle thefts. Are there particular areas that are more heavily affected?\n",
    "\n",
    "# Profiles of Stolen Bikes: Examine characteristics of stolen bikes (brand, model, color). Are there specific types of bikes that are targeted more often?\n",
    "\n",
    "# Theft Network: Explore the possibility of links between bicycle thefts. Are there patterns indicating organized operations?\n",
    "\n",
    "# Predictive Factors: Identify potential predictive factors for bicycle thefts. This could include variables such as weather, holidays, etc.\n",
    "\n",
    "# Recommendations: Formulate recommendations based on your analyses to help the police prevent bicycle thefts and improve recovery.\n"
   ]
  },
  {
   "cell_type": "code",
   "execution_count": null,
   "metadata": {},
   "outputs": [],
   "source": [
    "import pandas as pd\n",
    "import numpy as np\n",
    "import matplotlib.pyplot as plt\n",
    "import seaborn as sns\n",
    "pd.set_option('display.max_columns', None)\n",
    "pd.set_option('display.float_format', '{:.2f}'.format)"
   ]
  },
  {
   "cell_type": "code",
   "execution_count": null,
   "metadata": {},
   "outputs": [],
   "source": [
    "# loading the data and taking a look at the first 5 rows\n",
    "df_bicycle = pd.read_csv('data\\Bicycle_Thefts_Open_Data.csv')\n",
    "df = df_bicycle.copy()\n",
    "df.head()"
   ]
  },
  {
   "cell_type": "code",
   "execution_count": null,
   "metadata": {},
   "outputs": [],
   "source": [
    "# checking the shape of the data\n",
    "df.info()"
   ]
  },
  {
   "cell_type": "code",
   "execution_count": null,
   "metadata": {},
   "outputs": [],
   "source": [
    "# describing the data to get a better understanding of the data\n",
    "df.describe().T"
   ]
  },
  {
   "cell_type": "code",
   "execution_count": null,
   "metadata": {},
   "outputs": [],
   "source": [
    "# checking for missing values\n",
    "df.isnull().sum()"
   ]
  },
  {
   "cell_type": "code",
   "execution_count": null,
   "metadata": {},
   "outputs": [],
   "source": [
    "# checking for the percentage of missing values\n",
    "# we dont need the columns with more than 50% missing values\n",
    "df.isnull().mean() * 100"
   ]
  },
  {
   "cell_type": "code",
   "execution_count": null,
   "metadata": {},
   "outputs": [],
   "source": [
    "# checking for duplicates\n",
    "df.duplicated().sum()"
   ]
  },
  {
   "cell_type": "markdown",
   "metadata": {},
   "source": [
    "# Temporal Analysis"
   ]
  },
  {
   "cell_type": "code",
   "execution_count": null,
   "metadata": {},
   "outputs": [],
   "source": [
    "# selecting the last 10 years of data\n",
    "df = df[df['OCC_YEAR'] >= 2014]\n",
    "# df = df[(df['OCC_YEAR'] >= 2014) & (df['OCC_YEAR'] < 2024)]"
   ]
  },
  {
   "cell_type": "code",
   "execution_count": null,
   "metadata": {},
   "outputs": [],
   "source": [
    "# checking the number of thefts by year\n",
    "# on this graph we can appreciate a growing pattern since 2014 to 2018\n",
    "# the number of thefts has been decreasing over the last few years\n",
    "# i dont have full data for 2024 to analyze\n",
    "plt.figure(figsize=(12, 4))\n",
    "sns.countplot(data=df, x='OCC_YEAR')\n",
    "plt.xticks(rotation=45)\n",
    "plt.ylabel('Count')\n",
    "plt.title('Bicycle Thefts by Year')\n",
    "plt.show()\n"
   ]
  },
  {
   "cell_type": "code",
   "execution_count": null,
   "metadata": {},
   "outputs": [],
   "source": [
    "# checking the number of thefts by month\n",
    "# There is a seasonality in thefts. Bicycle thefts increase in summer with a peak in July.\n",
    "plt.figure(figsize=(12, 4))\n",
    "sns.countplot(data=df, x='OCC_MONTH')\n",
    "plt.xticks(rotation=45)\n",
    "plt.ylabel('Count')\n",
    "plt.title('Bicycle Thefts by Month')\n",
    "plt.show()"
   ]
  },
  {
   "cell_type": "code",
   "execution_count": null,
   "metadata": {},
   "outputs": [],
   "source": [
    "# checking the number of thefts by year and month. \n",
    "# from december 2023 to february 2024 there is a increase in the number of thefts compared to the previous years.\n",
    "plt.figure(figsize=(12, 4))\n",
    "sns.countplot(data=df, x='OCC_MONTH', hue='OCC_YEAR', palette='viridis')\n",
    "plt.xticks(rotation=45)\n",
    "plt.ylabel('Count')\n",
    "plt.title('Bicycle Thefts by Year and Month')\n",
    "plt.show()"
   ]
  },
  {
   "cell_type": "code",
   "execution_count": null,
   "metadata": {},
   "outputs": [],
   "source": [
    "# \n",
    "plt.figure(figsize=(8, 4))\n",
    "sns.countplot(data=df, x='OCC_DOW', \n",
    "              order=['Monday', 'Tuesday', 'Wednesday', 'Thursday', 'Friday', 'Saturday', 'Sunday']\n",
    "            )\n",
    "plt.xticks(rotation=45)\n",
    "plt.xlabel('Occurrence Year')\n",
    "plt.ylabel('Count')\n",
    "plt.title('Bicycle Thefts by Year')\n",
    "plt.show()"
   ]
  },
  {
   "cell_type": "code",
   "execution_count": null,
   "metadata": {},
   "outputs": [],
   "source": [
    "plt.figure(figsize=(8, 4))\n",
    "sns.countplot(data=df, x='OCC_YEAR')\n",
    "plt.xticks(rotation=45)\n",
    "plt.xlabel('Occurrence Year')\n",
    "plt.ylabel('Count')\n",
    "plt.title('Bicycle Thefts by Year')\n",
    "plt.show()"
   ]
  },
  {
   "cell_type": "markdown",
   "metadata": {},
   "source": [
    "Ideas:\n",
    "- create pivot table (year / stolen_count), (year / city) mb group by index: year, city, type of bike. mb premises_type/stolen_count\n",
    "- watch correlation between cost and stolen_count\n"
   ]
  },
  {
   "cell_type": "code",
   "execution_count": null,
   "metadata": {},
   "outputs": [],
   "source": [
    "# # Define the order of the months\n",
    "# month_order = ['January', 'February', 'March', 'April', 'May', 'June', 'July', 'August', 'September', 'October', 'November', 'December']\n",
    "\n",
    "# # Convert 'OCC_MONTH' to a categorical type with the specified order\n",
    "# df['OCC_MONTH'] = pd.Categorical(df['OCC_MONTH'], categories=month_order, ordered=True)\n",
    "\n",
    "# # Now, create the plot\n",
    "# df.groupby(['OCC_YEAR', 'OCC_MONTH']).size().unstack().plot(kind='bar', stacked=True, figsize=(12, 4), colormap='viridis')"
   ]
  }
 ],
 "metadata": {
  "kernelspec": {
   "display_name": "Python 3",
   "language": "python",
   "name": "python3"
  },
  "language_info": {
   "codemirror_mode": {
    "name": "ipython",
    "version": 3
   },
   "file_extension": ".py",
   "mimetype": "text/x-python",
   "name": "python",
   "nbconvert_exporter": "python",
   "pygments_lexer": "ipython3",
   "version": "3.12.1"
  }
 },
 "nbformat": 4,
 "nbformat_minor": 2
}
