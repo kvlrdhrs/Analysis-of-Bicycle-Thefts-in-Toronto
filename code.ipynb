{
 "cells": [
  {
   "cell_type": "markdown",
   "metadata": {},
   "source": [
    "# Bicycle Thefts in Toronto"
   ]
  },
  {
   "cell_type": "code",
   "execution_count": null,
   "metadata": {},
   "outputs": [],
   "source": [
    "# Suggested Tasks:\n",
    "\n",
    "# Data Exploration: Familiarize yourself with the dataset. Identify key variables such as date, location, bike type, etc.\n",
    "\n",
    "# Temporal Analysis: Analyze temporal trends in bicycle thefts. Are there seasons or times of day when thefts are more frequent?\n",
    "\n",
    "# Geographical Analysis: Map the locations of bicycle thefts. Are there particular areas that are more heavily affected?\n",
    "\n",
    "# Profiles of Stolen Bikes: Examine characteristics of stolen bikes (brand, model, color). Are there specific types of bikes that are targeted more often?\n",
    "\n",
    "# Theft Network: Explore the possibility of links between bicycle thefts. Are there patterns indicating organized operations?\n",
    "\n",
    "# Predictive Factors: Identify potential predictive factors for bicycle thefts. This could include variables such as weather, holidays, etc.\n",
    "\n",
    "# Recommendations: Formulate recommendations based on your analyses to help the police prevent bicycle thefts and improve recovery.\n"
   ]
  },
  {
   "cell_type": "code",
   "execution_count": null,
   "metadata": {},
   "outputs": [],
   "source": [
    "import pandas as pd\n",
    "import numpy as np\n",
    "import matplotlib.pyplot as plt\n",
    "import seaborn as sns\n",
    "pd.set_option('display.max_columns', None)\n",
    "pd.set_option('display.width', None)\n",
    "pd.set_option('display.float_format', '{:.2f}'.format)\n"
   ]
  },
  {
   "cell_type": "code",
   "execution_count": null,
   "metadata": {},
   "outputs": [],
   "source": [
    "# loading the data and taking a look at the first 5 rows\n",
    "df_bicycle = pd.read_csv('data\\Bicycle_Thefts_Open_Data.csv')\n",
    "df = df_bicycle.copy()\n",
    "df.head()"
   ]
  },
  {
   "cell_type": "code",
   "execution_count": null,
   "metadata": {},
   "outputs": [],
   "source": [
    "# checking the shape of the data\n",
    "df.info()"
   ]
  },
  {
   "cell_type": "code",
   "execution_count": null,
   "metadata": {},
   "outputs": [],
   "source": [
    "df['OCC_DATE'] = pd.to_datetime(df['OCC_DATE'])"
   ]
  },
  {
   "cell_type": "code",
   "execution_count": null,
   "metadata": {},
   "outputs": [],
   "source": [
    "# describing the data to get a better understanding of the data\n",
    "df.describe().T"
   ]
  },
  {
   "cell_type": "code",
   "execution_count": null,
   "metadata": {},
   "outputs": [],
   "source": [
    "# checking for missing values\n",
    "df.isnull().sum()"
   ]
  },
  {
   "cell_type": "code",
   "execution_count": null,
   "metadata": {},
   "outputs": [],
   "source": [
    "# checking for the percentage of missing values\n",
    "# we dont need the columns with more than 50% missing values\n",
    "df.isnull().mean() * 100"
   ]
  },
  {
   "cell_type": "code",
   "execution_count": null,
   "metadata": {},
   "outputs": [],
   "source": [
    "# checking for duplicates\n",
    "df.duplicated().sum()"
   ]
  },
  {
   "cell_type": "code",
   "execution_count": null,
   "metadata": {},
   "outputs": [],
   "source": [
    "df.head()"
   ]
  },
  {
   "cell_type": "markdown",
   "metadata": {},
   "source": [
    "# Temporal Analysis"
   ]
  },
  {
   "cell_type": "code",
   "execution_count": null,
   "metadata": {},
   "outputs": [],
   "source": [
    "# selecting the last 10 years of data\n",
    "df = df[df['OCC_YEAR'] >= 2014]\n",
    "# df = df[(df['OCC_YEAR'] >= 2014) & (df['OCC_YEAR'] < 2024)]"
   ]
  },
  {
   "cell_type": "code",
   "execution_count": null,
   "metadata": {},
   "outputs": [],
   "source": [
    "# checking the number of thefts by year\n",
    "# on this graph we can appreciate a growing pattern from 2014 to 2018\n",
    "# the number of thefts has been decreasing over the last few years\n",
    "# i dont have full data for 2024 to analyze. Maybe i can predict the number of thefts for 2024.\n",
    "plt.figure(figsize=(8, 3))\n",
    "ax = sns.countplot(data=df, x='OCC_YEAR')\n",
    "ax.bar_label(ax.containers[0], fmt='%.0f', label_type='center', color='white')\n",
    "plt.xticks(rotation=45)\n",
    "plt.ylabel('Count')\n",
    "plt.title('How has the number of thefts changed over the years?')\n",
    "plt.show()\n"
   ]
  },
  {
   "cell_type": "code",
   "execution_count": null,
   "metadata": {},
   "outputs": [],
   "source": [
    "# Group data by year and count occurrences, excluding 2024\n",
    "yearly_counts = df[df['OCC_YEAR'] != 2024]['OCC_YEAR'].value_counts().sort_index()\n",
    "\n",
    "# Calculate year-over-year percentage change\n",
    "percentage_change = yearly_counts.pct_change() * 100\n",
    "\n",
    "# Create line chart\n",
    "plt.figure(figsize=(10, 6))\n",
    "\n",
    "# Plot the number of thefts\n",
    "plt.plot(yearly_counts.index, yearly_counts.values, marker='o', linestyle='-', label='Number of Thefts')\n",
    "\n",
    "# Add year-over-year percentage change annotations\n",
    "for i, txt in enumerate(percentage_change.values[1:]):\n",
    "    plt.annotate(f'{txt:.1f}%', (yearly_counts.index[i+1], yearly_counts.values[i+1]), textcoords=\"offset points\", xytext=(0,10), ha='right')\n",
    "\n",
    "plt.xlabel('Year')\n",
    "plt.ylabel('Number of Thefts')\n",
    "plt.title('How has the number of thefts changed over the years?')\n",
    "plt.xticks(yearly_counts.index, rotation=45)\n",
    "plt.grid(False)\n",
    "plt.legend()\n",
    "\n",
    "plt.tight_layout()\n",
    "plt.show()"
   ]
  },
  {
   "cell_type": "code",
   "execution_count": null,
   "metadata": {},
   "outputs": [],
   "source": [
    "# checking the number of thefts by month\n",
    "# There is a seasonality in thefts. Bicycle thefts increase in summer with a peak in July.\n",
    "plt.figure(figsize=(8, 3))\n",
    "ax = sns.countplot(data=df, x='OCC_MONTH')\n",
    "ax.bar_label(ax.containers[0], fmt='%.0f', label_type='center', color='white')\n",
    "plt.xticks(rotation=45)\n",
    "plt.ylabel('Count')\n",
    "plt.title('Did bicycle thefts occur more frequently in certain months?')\n",
    "plt.show()"
   ]
  },
  {
   "cell_type": "code",
   "execution_count": null,
   "metadata": {},
   "outputs": [],
   "source": [
    "# checking the number of thefts by year and month. \n",
    "# from december 2023 to february 2024 there is an increase in the number of thefts compared to the previous years.\n",
    "plt.figure(figsize=(8, 3))\n",
    "sns.countplot(data=df, x='OCC_MONTH', hue='OCC_YEAR', palette='viridis')\n",
    "plt.xticks(rotation=45)\n",
    "plt.ylabel('Count')\n",
    "plt.title('Bicycle Thefts by Year and Month')\n",
    "plt.show()"
   ]
  },
  {
   "cell_type": "code",
   "execution_count": null,
   "metadata": {},
   "outputs": [],
   "source": [
    "# checking the number of thefts by day of the week.\n",
    "# The number of thefts is higher on weekdays than weekends with a peak on Friday.\n",
    "plt.figure(figsize=(8, 3))\n",
    "ax = sns.countplot(data=df, x='OCC_DOW', \n",
    "              order=['Monday', 'Tuesday', 'Wednesday', 'Thursday', 'Friday', 'Saturday', 'Sunday'],\n",
    "              )\n",
    "ax.bar_label(ax.containers[0], fmt='%.0f', label_type='center', color='white')\n",
    "plt.xticks(rotation=45)\n",
    "plt.xlabel('Occurrence Year')\n",
    "plt.ylabel('Count')\n",
    "plt.title('Did bicycle thefts occur more frequently in certain days of the week?')\n",
    "plt.show()"
   ]
  },
  {
   "cell_type": "code",
   "execution_count": null,
   "metadata": {},
   "outputs": [],
   "source": [
    "# checking the number of thefts by day of the month\n",
    "plt.figure(figsize=(8, 3))\n",
    "ax = sns.countplot(data=df, x='OCC_DAY')\n",
    "ax.bar_label(ax.containers[0], fmt='%.0f', label_type='center', color='white', rotation=90, size=8)\n",
    "plt.xticks(rotation=45)\n",
    "plt.ylabel('Count')\n",
    "plt.title('Did bicycle thefts occur more frequently in certain days of the month?')\n",
    "plt.show()"
   ]
  },
  {
   "cell_type": "code",
   "execution_count": null,
   "metadata": {},
   "outputs": [],
   "source": [
    "# checking the number of thefts by hour\n",
    "# The number of thefts increase from 12:00 with a peak between 17:00 - 18:00.\n",
    "hours = sorted(df['OCC_HOUR'].unique(), key=lambda x: (x < 5, x))\n",
    "df['OCC_HOUR'] = pd.Categorical(df['OCC_HOUR'], categories=hours, ordered=True)\n",
    "plt.figure(figsize=(8, 3))\n",
    "ax = sns.countplot(data=df, x='OCC_HOUR')\n",
    "ax.bar_label(ax.containers[0], fmt='%.0f', label_type='center', color='white', rotation=90, size=9)\n",
    "plt.xticks(rotation=45)\n",
    "plt.ylabel('Count')\n",
    "plt.title('Did bicycle thefts occur more frequently at certain times of the day?')\n",
    "plt.show()"
   ]
  },
  {
   "cell_type": "markdown",
   "metadata": {},
   "source": [
    "# Geographical Analysis"
   ]
  },
  {
   "cell_type": "code",
   "execution_count": null,
   "metadata": {},
   "outputs": [],
   "source": [
    "# import folium\n",
    "\n",
    "# # Initialize the map centered around Toronto\n",
    "# m = folium.Map(location=[43.7, -79.4], zoom_start=11)\n",
    "\n",
    "# # Add markers to the map\n",
    "# for index, row in df.iterrows():\n",
    "#     folium.Marker(\n",
    "#         location=[row['LAT_WGS84'], row['LONG_WGS84']],\n",
    "#         popup=f'Latitude: {row[\"LAT_WGS84\"]}, Longitude: {row[\"LONG_WGS84\"]}'\n",
    "#     ).add_to(m)\n",
    "\n",
    "# # Save the map as an HTML file\n",
    "# m.save(\"map.html\")"
   ]
  },
  {
   "cell_type": "markdown",
   "metadata": {},
   "source": [
    "# Profiles of Stolen Bikes"
   ]
  },
  {
   "cell_type": "code",
   "execution_count": null,
   "metadata": {},
   "outputs": [],
   "source": [
    "# checking the number of thefts by bike type\n",
    "df.replace({'BIKE_TYPE': {'BM':'BMX', 'EL':'Electric', 'FO':'Folding', 'MT':'Mountain', 'OT':'Other',\n",
    "                          'RC':'Racer', 'RE':'Recumbant', 'RG':'Regular', 'SC':'Scooter', 'TA':'Tandem',\n",
    "                            'TO':'Touring', 'TR':'Tricycle', 'UN':'Unicycle'}}, inplace=True)"
   ]
  },
  {
   "cell_type": "code",
   "execution_count": null,
   "metadata": {},
   "outputs": [],
   "source": [
    "# Excluding uncategorized and unknown types, mountain bikes, regular bikes, and racer bikes are the most frequently stolen.\n",
    "\n",
    "# Get top 5 bike types\n",
    "top_bike_types = df['BIKE_TYPE'].value_counts().nlargest(5)\n",
    "\n",
    "# Calculate percentage of all thefts\n",
    "total_thefts = df['BIKE_TYPE'].value_counts().sum()\n",
    "percentage_thefts = top_bike_types / total_thefts * 100\n",
    "\n",
    "# Create the horizontal bar plot using seaborn\n",
    "ax = sns.barplot(x=top_bike_types.values, y=top_bike_types.index, orient='h')\n",
    "ax.bar_label(ax.containers[0], fmt='%.0f', label_type='center', color='white')\n",
    "\n",
    "# Add percentages to the plot\n",
    "for i, p in enumerate(ax.patches):\n",
    "    percentage = percentage_thefts[top_bike_types.index[i]]\n",
    "    ax.annotate(f'{percentage:.0f}%', (p.get_x() + p.get_width() - 3, p.get_y() + p.get_height() / 2), ha='right', va='top', color='yellow')\n",
    "\n",
    "plt.xlabel('Count')\n",
    "plt.ylabel('Bike Type')\n",
    "plt.title('Did certain types of bikes get stolen more often? (Top 5)')\n",
    "plt.show()"
   ]
  },
  {
   "cell_type": "markdown",
   "metadata": {},
   "source": [
    "# Theft Network"
   ]
  },
  {
   "cell_type": "markdown",
   "metadata": {},
   "source": [
    "# Predictive Factors"
   ]
  },
  {
   "cell_type": "markdown",
   "metadata": {},
   "source": [
    "# Recommendations"
   ]
  }
 ],
 "metadata": {
  "kernelspec": {
   "display_name": "Python 3",
   "language": "python",
   "name": "python3"
  },
  "language_info": {
   "codemirror_mode": {
    "name": "ipython",
    "version": 3
   },
   "file_extension": ".py",
   "mimetype": "text/x-python",
   "name": "python",
   "nbconvert_exporter": "python",
   "pygments_lexer": "ipython3",
   "version": "3.12.1"
  }
 },
 "nbformat": 4,
 "nbformat_minor": 2
}
